{
 "cells": [
  {
   "cell_type": "code",
   "execution_count": null,
   "id": "6b7e373a",
   "metadata": {},
   "outputs": [],
   "source": []
  }
 ],
 "metadata": {
  "language_info": {
   "name": "python"
  }
 },
 "nbformat": 4,
 "nbformat_minor": 5
}
